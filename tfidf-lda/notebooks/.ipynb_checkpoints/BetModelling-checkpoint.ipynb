{
 "cells": [
  {
   "cell_type": "code",
   "execution_count": 1,
   "metadata": {},
   "outputs": [],
   "source": [
    "// To train the model in this example we'll use a data dump from the guardian\n",
    "// which is contained in ./guardian\n",
    "// First of all we will read the text files and create a corpus"
   ]
  },
  {
   "cell_type": "code",
   "execution_count": 2,
   "metadata": {},
   "outputs": [],
   "source": [
    "import \"io/ioutil\"\n",
    "files, _ := ioutil.ReadDir(\"./guardian\")"
   ]
  },
  {
   "cell_type": "code",
   "execution_count": 3,
   "metadata": {},
   "outputs": [],
   "source": [
    "var trainingData = make([]string, len(files))"
   ]
  },
  {
   "cell_type": "code",
   "execution_count": 4,
   "metadata": {},
   "outputs": [],
   "source": [
    "import \"fmt\"\n",
    "\n",
    "// Copy all of the files into the corpus\n",
    "for i, file := range files {\n",
    "    b, _ := ioutil.ReadFile(fmt.Sprintf(\"./guardian/%s\", file.Name()))\n",
    "    trainingData[i] = string(b)\n",
    "}"
   ]
  },
  {
   "cell_type": "code",
   "execution_count": 5,
   "metadata": {},
   "outputs": [],
   "source": [
    "// Now we have the training data we need to get our product data which is stored in CSV format\n",
    "// For simplicity we will create a struct to unmarshal some of the data into"
   ]
  },
  {
   "cell_type": "code",
   "execution_count": 6,
   "metadata": {},
   "outputs": [],
   "source": [
    "type Bet struct {\n",
    "    ID          string `csv:\"ID\"`\n",
    "    EventName   string `csv:\"EventName\"`\n",
    "    Sport       string `csv:\"Sport\"`\n",
    "    RawType     string `csv:\"RawType\"`\n",
    "    Competition string `csv:\"Competition\"`\n",
    "    Home        string `csv:\"Home\"`\n",
    "    Away        string `csv:\"Home\"`\n",
    "    Options     string `csv:\"Options\"`\n",
    "}\n",
    "\n",
    "// Each bet needs to be represented as a single line of the the corpus so write a quite helper function\n",
    "func (b Bet) ToString() string {\n",
    "    return fmt.Sprintf(\n",
    "        \"%s %s %s %s %s %s %s\",\n",
    "        b.EventName,\n",
    "        b.Sport,\n",
    "        b.RawType,\n",
    "        b.Competition,\n",
    "        b.Home,\n",
    "        b.Away,\n",
    "        b.Options,\n",
    "    )\n",
    "}"
   ]
  },
  {
   "cell_type": "code",
   "execution_count": 7,
   "metadata": {},
   "outputs": [
    {
     "name": "stdout",
     "output_type": "stream",
     "text": [
      "<nil>\n"
     ]
    }
   ],
   "source": [
    "import (\n",
    "    \"os\"\n",
    "    \n",
    "    \"github.com/gocarina/gocsv\"\n",
    ")\n",
    "\n",
    "// marshal our csv\n",
    "betsFile, _ := os.OpenFile(\"bets.csv\", os.O_RDWR|os.O_CREATE, os.ModePerm)\n",
    "\n",
    "var bets []*Bet\n",
    "\n",
    "gocsv.UnmarshalFile(betsFile, &bets)\n",
    "\n",
    "betsFile.Close()"
   ]
  },
  {
   "cell_type": "code",
   "execution_count": 8,
   "metadata": {},
   "outputs": [],
   "source": [
    "// create our product (bet) corpus\n",
    "var productCorpus = make([]string, len(bets))\n",
    "\n",
    "for i, bet := range bets{\n",
    "    productCorpus[i] = bet.ToString()\n",
    "}"
   ]
  },
  {
   "cell_type": "code",
   "execution_count": 9,
   "metadata": {},
   "outputs": [],
   "source": [
    "// Now all the data is gathered we can start building our pipelines.\n",
    "// The first one will be a TDIDF which takes place after a count vectoriser"
   ]
  },
  {
   "cell_type": "code",
   "execution_count": 10,
   "metadata": {},
   "outputs": [],
   "source": [
    "import \"github.com/james-bowman/nlp\"\n",
    "\n",
    "var tfIdfPipeline = nlp.NewPipeline(\n",
    "    nlp.NewCountVectoriser(),\n",
    "    nlp.NewTfidfTransformer(),\n",
    ")"
   ]
  },
  {
   "cell_type": "code",
   "execution_count": 11,
   "metadata": {},
   "outputs": [
    {
     "name": "stdout",
     "output_type": "stream",
     "text": [
      "Sports fans back governing bodies' support for marriage equality, study shows\n",
      "\n",
      "Survey of dedicated fans finds 59%!a(MISSING)gree major codes were right to back the yes campaign in the same-sex marriage survey debate\n",
      "\n",
      "The AFL temporarily changed the logo on its headquarters to show support for marriage equality. A survey of fans has found most supported governing bodies making a public stance.\n",
      "\n",
      "Photograph: Paul Rovere/Getty Images\n",
      "\n",
      "Most dedicated sports fans agree that governing bodies were right to support the marriage equality campaign, a survey has found.\n",
      "\n",
      "The study by Monash University’s behavioural science laboratory and YouGov found 59%!o(MISSING)f those heavily engaged in sport (dubbed “superfans”) approved of sporting organisations’ involvement in the same-sex marriage survey debate – in which the AFL, NRL, ARU, FFA and Cricket Australia all came out in support of marriage equality.\n",
      "\n",
      "The position of the sporting bodies during the campaign faced a chorus of public criticism, including from NRL Footy Show host Erin Nolan, her Melbourne AFL counterpart Sam Newman and News Corp journalists who persisted with the line that sport should stay out of politics.\n",
      "\n",
      "In September Tony Abbott backed calls to ban Macklemore’s performance of the marriage equality anthem Same Love at the NRL grand final, tweeting: “Footy fans shouldn’t be subjected to a politicised grand final. Sport is sport!”\n",
      "\n",
      "The survey revealed a much more positive view from fans, though they were divided along age lines: 71%!o(MISSING)f those between 18 and 35 agreed the sporting bodies’ move was “correct”, compared with only 56%!o(MISSING)f those between 35 and 54, and only 43%!o(MISSING)f those over 55.\n",
      "\n",
      "However, even among those who said they “strongly disagreed” with marriage equality, 28%!s(MISSING)aid they agreed the statements were important to ensure that “sporting organisations stay relevant with young people”. Overall, 62%!o(MISSING)f respondents agreed with that view.\n",
      "\n",
      "The survey, of 1,003 respondents, also broke down the results by sporting code. Rugby union superfans were most in favour of their governing body backing marriage equality (74%!)(MISSING), followed by football (71%!)(MISSING), cricket (66%!)(MISSING), rugby league (62%!)(MISSING) and AFL (61%!)(MISSING).\n",
      "\n",
      "Perhaps the most surprising finding by the researchers was that Australian sporting organisations are world leaders in their approach to marriage equality. Lead researcher Erik Denison said his team had been unable to find any other examples of national sporting organisations advocating the legalisation of marriage equality. Some individual US sporting teams had done so, but none of the governing bodies.\n",
      "\n",
      "Denison pointed out that Australian sporting organisations had led the way on LGBTI rights since 2014, when all five major governing bodies signed a commitment to eliminate homophobia in Australian sport ahead of the Bingham Cup (the world championship of gay and inclusive men and women’s rugby). In 2014-15, the five major codes also helped conduct the first international study on homophobia in sport. Subsequently, in 2016, Cricket Australia, the AFL, NRL, ARU and FFA joined forces to launch the Pride in Sport Index – a benchmarking instrument designed to assess inclusion of LGBTI people in Australian sport.\n",
      "\n",
      "It was as a result of this history, Denison said, that fans had come to expect their codes to take a lead on political issues such as marriage equality.\n",
      "\n",
      "“Over the last few years, Australian sporting organisations have become international leaders in efforts to tackle homophobia and make sporting culture more inclusive for LGBTI people,” he said in a statement.\n",
      "\n",
      "“While many Australians might have been surprised to see the sports advocating for the rights of gay people to get married, this has become normal to their core fan base. This may explain why the core fans are supportive of the public stance taken by the sports”.\n",
      "3981\n",
      "<nil>\n"
     ]
    }
   ],
   "source": [
    "// Fit the pipeline with the training data\n",
    "tfIdfVectorisor := tfIdfPipeline.Fit(trainingData...)"
   ]
  },
  {
   "cell_type": "code",
   "execution_count": 18,
   "metadata": {},
   "outputs": [],
   "source": [
    "// Transform the Product Corpus\n",
    "tfIdfMatrix, _ := tfIdfVectorisor.Transform(productCorpus...)"
   ]
  },
  {
   "cell_type": "code",
   "execution_count": 13,
   "metadata": {},
   "outputs": [],
   "source": [
    "// Repeat the steps for LDA. Create pipeline, Fit then Transform.\n",
    "// For the LDA you define the number of topics which can be tuned."
   ]
  },
  {
   "cell_type": "code",
   "execution_count": 14,
   "metadata": {},
   "outputs": [],
   "source": [
    "var ldaTopics = 100"
   ]
  },
  {
   "cell_type": "code",
   "execution_count": 15,
   "metadata": {},
   "outputs": [],
   "source": [
    "var ldaPipeline = nlp.NewPipeline(\n",
    "    nlp.NewCountVectoriser(),\n",
    "    nlp.NewLatentDirichletAllocation(ldaTopics),\n",
    ")"
   ]
  },
  {
   "cell_type": "code",
   "execution_count": 16,
   "metadata": {},
   "outputs": [],
   "source": [
    "// Fit the pipeline with the training data\n",
    "ldafVectorisor := ldaPipeline.Fit(trainingData...)"
   ]
  },
  {
   "cell_type": "code",
   "execution_count": 19,
   "metadata": {},
   "outputs": [],
   "source": [
    "ldaMatrix, _ := ldafVectorisor.Transform(productCorpus...)"
   ]
  },
  {
   "cell_type": "code",
   "execution_count": 20,
   "metadata": {},
   "outputs": [],
   "source": [
    "import (\n",
    "    \"github.com/james-bowman/sparse\"\n",
    "    \"github.com/james-bowman/nlp/measures/pairwise\"\n",
    ")"
   ]
  },
  {
   "cell_type": "code",
   "execution_count": 21,
   "metadata": {},
   "outputs": [],
   "source": [
    "sparseTfIdf := tfIdfMatrix.(*sparse.CSR).ToCSC()"
   ]
  },
  {
   "cell_type": "code",
   "execution_count": 22,
   "metadata": {},
   "outputs": [],
   "source": [
    "_, docs := sparseTfIdf.Dims()"
   ]
  },
  {
   "cell_type": "code",
   "execution_count": 23,
   "metadata": {},
   "outputs": [],
   "source": [
    "var doc = `Yaya Toure's agent has posted a cryptic message on Twitter claiming the Ivory Coast international has passed a medical in London.\n",
    "\n",
    "Toure's deal at the Etihad expired earlier this summer as he ended his eight-year affair with the club in style - winning his third Premier League title in record-breaking fashion.\n",
    "\n",
    "The former Barcelona midfielder is yet to announce where he will be moving next, but his agent dropped a big hint on Tuesday evening suggesting news of his future is close.\n",
    "\n",
    "He confirmed the player is not moving to West Ham or Crystal Palace in follow-up posts.\n",
    "\n",
    "West Ham boss Mauricio Pellegrini had already ruled out a move for the free agent, who he won the Premier League with while in charge of Manchester City.\n",
    "\n",
    "\n",
    "The East End club, according to reports, had previously considered making a move for the 35-year-old.\n",
    "\n",
    "In May, Toure's agent told Sky Sports News his client was keen to remain in the Premier League after leaving City, revealing he would be willing pay back half his wages if his new club were not satisfied with his performances.\n",
    "\n",
    "\"Yaya is fit and desperate to prove he's still the best central midfielder in the Premier League,\" Seluk said.\n",
    "\n",
    "\"Ivory Coast will not be in Russia for the World Cup and next season he will be fit, rested and stronger than ever.\n",
    "`"
   ]
  },
  {
   "cell_type": "code",
   "execution_count": 31,
   "metadata": {},
   "outputs": [],
   "source": [
    "query, _ := tfIdfVectorisor.Transform(doc)\n",
    "sparseQuery := query.(*sparse.CSR).ToCSC()"
   ]
  },
  {
   "cell_type": "code",
   "execution_count": 32,
   "metadata": {},
   "outputs": [],
   "source": [
    "highestSimilarity := -1.0\n",
    "var matched int\n",
    "for i := 0; i < docs; i++ {\n",
    "    similarity := pairwise.CosineSimilarity(sparseQuery.ColView(0), sparseTfIdf.ColView(i))\n",
    "    if similarity > highestSimilarity {\n",
    "        matched = i\n",
    "        highestSimilarity = similarity\n",
    "    }\n",
    "}"
   ]
  },
  {
   "cell_type": "code",
   "execution_count": 33,
   "metadata": {},
   "outputs": [
    {
     "name": "stdout",
     "output_type": "stream",
     "text": [
      "0.243414, Crystal Palace v Manchester United Football Request-a-Bet Specials Premier League Crystal Palace  :Player A to score 40 or more Premier League goals 16/17:Team B to go unbeaten in the 16/17 Premier League season221\n",
      "<nil>\n"
     ]
    }
   ],
   "source": [
    "fmt.Printf(\"%f, %s\", highestSimilarity, productCorpus[matched])"
   ]
  },
  {
   "cell_type": "code",
   "execution_count": 34,
   "metadata": {},
   "outputs": [],
   "source": [
    "ldaQuery, _ := ldafVectorisor.Transform(doc)"
   ]
  },
  {
   "cell_type": "code",
   "execution_count": 38,
   "metadata": {},
   "outputs": [],
   "source": [
    "import \"gonum.org/v1/gonum/mat\"\n",
    "\n",
    "highestSimilarity := -1.0\n",
    "var matched int\n",
    "for i := 0; i < docs; i++ {\n",
    "    similarity := pairwise.CosineSimilarity(ldaQuery.(mat.ColViewer).ColView(0), ldaMatrix.(mat.ColViewer).ColView(i))\n",
    "    if similarity > highestSimilarity {\n",
    "        matched = i\n",
    "        highestSimilarity = similarity\n",
    "    }\n",
    "}"
   ]
  },
  {
   "cell_type": "code",
   "execution_count": 39,
   "metadata": {},
   "outputs": [
    {
     "name": "stdout",
     "output_type": "stream",
     "text": [
      "0.997571, England v Nigeria Football #GetAPrice - England International Friendlies England  :Over 3.5 goals in the match, England to win and Both teams to score:England to win either half, England Over 1.5 goals in the match and England to keep a clean sheet:England to win or draw, Nigeria Under 0.5 goals in the first half and Under 3.5 goals in the match:England to win both halves, England Over 2.5 goals in the match and England to keep a clean sheet:England (-1) goals, England to score in both halves and Over 4.5 goals in the match:England to win or draw, Both teams to score in the second half and Over 2.5 goals in the match634\n",
      "<nil>\n"
     ]
    }
   ],
   "source": [
    "fmt.Printf(\"%f, %s\", highestSimilarity, productCorpus[matched])"
   ]
  }
 ],
 "metadata": {
  "kernelspec": {
   "display_name": "Go (lgo)",
   "language": "go",
   "name": "lgo"
  },
  "language_info": {
   "file_extension": "",
   "mimetype": "",
   "name": "go",
   "version": ""
  }
 },
 "nbformat": 4,
 "nbformat_minor": 2
}
