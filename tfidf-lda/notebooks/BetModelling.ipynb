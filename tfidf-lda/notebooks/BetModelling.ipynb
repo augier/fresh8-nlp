{
 "cells": [
  {
   "cell_type": "code",
   "execution_count": 1,
   "metadata": {},
   "outputs": [],
   "source": [
    "// To train the model in this example we'll use a data dump from the guardian\n",
    "// which is contained in ./guardian\n",
    "// First of all we will read the text files and create a corpus"
   ]
  },
  {
   "cell_type": "code",
   "execution_count": 2,
   "metadata": {},
   "outputs": [],
   "source": [
    "import \"io/ioutil\"\n",
    "files, _ := ioutil.ReadDir(\"./guardian\")"
   ]
  },
  {
   "cell_type": "code",
   "execution_count": 3,
   "metadata": {},
   "outputs": [],
   "source": [
    "var trainingData = make([]string, len(files))"
   ]
  },
  {
   "cell_type": "code",
   "execution_count": 4,
   "metadata": {},
   "outputs": [],
   "source": [
    "import \"fmt\"\n",
    "\n",
    "// Copy all of the files into the corpus\n",
    "for i, file := range files {\n",
    "    b, _ := ioutil.ReadFile(fmt.Sprintf(\"./guardian/%s\", file.Name()))\n",
    "    trainingData[i] = string(b)\n",
    "}"
   ]
  },
  {
   "cell_type": "code",
   "execution_count": 5,
   "metadata": {},
   "outputs": [],
   "source": [
    "// Now we have the training data we need to get our product data which is stored in CSV format\n",
    "// For simplicity we will create a struct to unmarshal some of the data into"
   ]
  },
  {
   "cell_type": "code",
   "execution_count": 6,
   "metadata": {},
   "outputs": [],
   "source": [
    "type Bet struct {\n",
    "    ID          string `csv:\"ID\"`\n",
    "    EventName   string `csv:\"EventName\"`\n",
    "    Sport       string `csv:\"Sport\"`\n",
    "    RawType     string `csv:\"RawType\"`\n",
    "    Competition string `csv:\"Competition\"`\n",
    "    Home        string `csv:\"Home\"`\n",
    "    Away        string `csv:\"Home\"`\n",
    "    Options     string `csv:\"Options\"`\n",
    "}\n",
    "\n",
    "// Each bet needs to be represented as a single line of the the corpus so write a quite helper function\n",
    "func (b Bet) ToString() string {\n",
    "    return fmt.Sprintf(\n",
    "        \"%s %s %s %s %s %s %s\",\n",
    "        b.EventName,\n",
    "        b.Sport,\n",
    "        b.RawType,\n",
    "        b.Competition,\n",
    "        b.Home,\n",
    "        b.Away,\n",
    "        b.Options,\n",
    "    )\n",
    "}"
   ]
  },
  {
   "cell_type": "code",
   "execution_count": 7,
   "metadata": {},
   "outputs": [
    {
     "name": "stdout",
     "output_type": "stream",
     "text": [
      "<nil>\n"
     ]
    }
   ],
   "source": [
    "import (\n",
    "    \"os\"\n",
    "    \n",
    "    \"github.com/gocarina/gocsv\"\n",
    ")\n",
    "\n",
    "// marshal our csv\n",
    "betsFile, _ := os.OpenFile(\"bets.csv\", os.O_RDWR|os.O_CREATE, os.ModePerm)\n",
    "\n",
    "var bets []*Bet\n",
    "\n",
    "gocsv.UnmarshalFile(betsFile, &bets)\n",
    "\n",
    "betsFile.Close()"
   ]
  },
  {
   "cell_type": "code",
   "execution_count": 8,
   "metadata": {},
   "outputs": [],
   "source": [
    "// create our product (bet) corpus\n",
    "var productCorpus = make([]string, len(bets))\n",
    "\n",
    "for i, bet := range bets{\n",
    "    productCorpus[i] = bet.ToString()\n",
    "}"
   ]
  },
  {
   "cell_type": "code",
   "execution_count": 9,
   "metadata": {},
   "outputs": [],
   "source": [
    "// Now all the data is gathered we can start building our pipelines.\n",
    "// The first one will be a TDIDF which takes place after a count vectoriser"
   ]
  },
  {
   "cell_type": "code",
   "execution_count": 10,
   "metadata": {},
   "outputs": [],
   "source": [
    "import \"github.com/james-bowman/nlp\"\n",
    "\n",
    "var tfIdfPipeline = nlp.NewPipeline(\n",
    "    nlp.NewCountVectoriser(),\n",
    "    nlp.NewTfidfTransformer(),\n",
    ")"
   ]
  },
  {
   "cell_type": "code",
   "execution_count": 250,
   "metadata": {},
   "outputs": [],
   "source": [
    "// Fit the pipeline with the training data\n",
    "tfIdfVectorisor := tfIdfPipeline.Fit(trainingData...)"
   ]
  },
  {
   "cell_type": "code",
   "execution_count": 18,
   "metadata": {},
   "outputs": [],
   "source": [
    "// Transform the Product Corpus\n",
    "tfIdfMatrix, _ := tfIdfVectorisor.Transform(productCorpus...)"
   ]
  },
  {
   "cell_type": "code",
   "execution_count": 13,
   "metadata": {},
   "outputs": [],
   "source": [
    "// Repeat the steps for LDA. Create pipeline, Fit then Transform.\n",
    "// For the LDA you define the number of topics which can be tuned."
   ]
  },
  {
   "cell_type": "code",
   "execution_count": 14,
   "metadata": {},
   "outputs": [],
   "source": [
    "var ldaTopics = 100"
   ]
  },
  {
   "cell_type": "code",
   "execution_count": 15,
   "metadata": {},
   "outputs": [],
   "source": [
    "var ldaPipeline = nlp.NewPipeline(\n",
    "    nlp.NewCountVectoriser(),\n",
    "    nlp.NewLatentDirichletAllocation(ldaTopics),\n",
    ")"
   ]
  },
  {
   "cell_type": "code",
   "execution_count": 16,
   "metadata": {},
   "outputs": [],
   "source": [
    "// Fit the pipeline with the training data\n",
    "ldafVectorisor := ldaPipeline.Fit(trainingData...)"
   ]
  },
  {
   "cell_type": "code",
   "execution_count": 19,
   "metadata": {},
   "outputs": [],
   "source": [
    "ldaMatrix, _ := ldafVectorisor.Transform(productCorpus...)"
   ]
  },
  {
   "cell_type": "code",
   "execution_count": 20,
   "metadata": {},
   "outputs": [],
   "source": [
    "import (\n",
    "    \"github.com/james-bowman/sparse\"\n",
    "    \"github.com/james-bowman/nlp/measures/pairwise\"\n",
    ")"
   ]
  },
  {
   "cell_type": "code",
   "execution_count": 21,
   "metadata": {},
   "outputs": [],
   "source": [
    "sparseTfIdf := tfIdfMatrix.(*sparse.CSR).ToCSC()"
   ]
  },
  {
   "cell_type": "code",
   "execution_count": 44,
   "metadata": {},
   "outputs": [],
   "source": [
    "_, numDocs := sparseTfIdf.Dims()"
   ]
  },
  {
   "cell_type": "code",
   "execution_count": 242,
   "metadata": {},
   "outputs": [],
   "source": [
    "var doc = `Salford moved clear at the top of the Super 8s Qualifiers after securing a third straight win and clinically dispatching Halifax 62-4 at the MBi Shay Stadium.\n",
    "\n",
    "The Red Devils beat Hull KR and Widnes in their opening two fixtures and this third victory sees them take a significant step towards Super League survival.\n",
    "\n",
    "Ian Watson's side had too much quality for their hosts and tries from Jackson Hastings, Ed Chamberlain, Derrell Olpherts (two), Ben Nakubuwai and Kris Welham helped them into a 30-4 interval lead.\n",
    "\n",
    "From there Salford did not look back and second-half scores from Olpherts, Lama Tasi, Junior Sa'u (two), Hastings and Josh Wood completed a handsome 12-try victory.\n",
    "\n",
    "Halifax, who opened the scoring through Sam Wood, remain without a point to their name in the Qualifiers after previous defeats to Toronto and Toulouse.\n",
    "\n",
    "They led in the ninth minute when centre Ben Heaton embarked on a fine run down the left-hand touchline before sending Wood over for a try which Shane Grady failed to convert.\n",
    "\n",
    "Yet the advantage did not last long as Salford hit back when Hastings showed impressive strength to drive through the Halifax defence inside the left channel.\n",
    "\n",
    "Chamberlain missed the conversion but Halifax were dealt a blow in the 18th minute when prop Jordan Baldwinson was forced off with a leg injury and replaced by Jacob Fairbank.\n",
    "\n",
    "Moments later the Red Devils claimed a fine score when Hastings' high bomb was expertly fielded by Welham, whose offload found Robert Lui in the right channel.\n",
    "\n",
    "Lui found Chamberlain advancing at pace and he touched down in the right corner for a try he then converted.`"
   ]
  },
  {
   "cell_type": "code",
   "execution_count": 243,
   "metadata": {},
   "outputs": [],
   "source": [
    "query, _ := tfIdfVectorisor.Transform(doc)\n",
    "sparseQuery := query.(*sparse.CSR).ToCSC()"
   ]
  },
  {
   "cell_type": "code",
   "execution_count": 244,
   "metadata": {},
   "outputs": [],
   "source": [
    "// Use a cosine similarity to compare our query doc vector with each of our product vectors\n",
    "tfIdfScores := make([]float64, numDocs)\n",
    "\n",
    "for i := 0; i < numDocs; i++ {\n",
    "    tfIdfScores[i] = pairwise.CosineSimilarity(sparseQuery.ColView(0), sparseTfIdf.ColView(i))\n",
    "}"
   ]
  },
  {
   "cell_type": "code",
   "execution_count": 245,
   "metadata": {},
   "outputs": [],
   "source": [
    "ldaQuery, _ := ldafVectorisor.Transform(doc)"
   ]
  },
  {
   "cell_type": "code",
   "execution_count": 246,
   "metadata": {},
   "outputs": [],
   "source": [
    "import \"gonum.org/v1/gonum/mat\"\n",
    "\n",
    "ldaScores := make([]float64, numDocs)\n",
    "for i := 0; i < docs; i++ {\n",
    "    ldaScores[i] = pairwise.CosineSimilarity(ldaQuery.(mat.ColViewer).ColView(0), ldaMatrix.(mat.ColViewer).ColView(i))\n",
    "}"
   ]
  },
  {
   "cell_type": "code",
   "execution_count": 247,
   "metadata": {},
   "outputs": [],
   "source": [
    "// combine the scores with a weighting multiplier for each measure\n",
    "\n",
    "tfIdfWeight := 5.0\n",
    "ldaWeight := 1.0\n",
    "\n",
    "combinedScores := make([]float64, numDocs)\n",
    "for i := 0; i < docs; i++ {\n",
    "    combinedScores[i] = (tfIdfScores[i]*tfIdfWeight + ldaScores[i]*ldaWeight) / tfIdfWeight * ldaWeight\n",
    "}"
   ]
  },
  {
   "cell_type": "code",
   "execution_count": 248,
   "metadata": {},
   "outputs": [],
   "source": [
    "// Use argsort to get order these\n",
    "import \"gonum.org/v1/gonum/floats\"\n",
    "\n",
    "inds := make([]int, numDocs)\n",
    "\n",
    "floats.Argsort(combinedScores, inds)"
   ]
  },
  {
   "cell_type": "code",
   "execution_count": 249,
   "metadata": {},
   "outputs": [
    {
     "name": "stdout",
     "output_type": "stream",
     "text": [
      "0.507461: Salford v Huddersfield Rugby League RequestABet Specials Up to 5/1 Super League Salford Red Devils  :Huddersfield to Score First, Lead at Half Time & Win the Match:Salford to Score First, Lead at Half Time & Win the Match\n",
      "0.464580: Salford v Huddersfield Rugby League RequestABet Specials 11/1 to 28/1 Super League Salford Red Devils  :Rankin, Mcgillvary and Sa’u tryscorers, Giants to win and 30+ points in match:Robert Lui, Niall Evalds & Weller Hauraki to score tries\n",
      "0.452839: Salford v Huddersfield Rugby League RequestABet Specials 33/1 to 66/1 Super League Salford Red Devils  :Danny Brough To Score 1st try & Huddersfield To Win:Craig Kopczak To Score 1st try & Salford To Win\n",
      "0.443542: Halifax v Featherstone Rugby League Match Result Kingstone Press Championship Halifax RLFC  :Halifax RLFC:Drawn Match:Featherstone\n",
      "0.424202: Salford v Huddersfield Rugby League RequestABet Specials 80/1 and above Super League Salford Red Devils  :Jermaine McGilvary 1st tryscorer and Jake Mamo last tryscorer\n",
      "0.403200: Salford Red Devils v Wakefield Trinity Wildcats Rugby League Request-a-Bet Specials Super League Salford Red Devils  :Player A to score 40 or more Premier League goals 16/17:Team B to go unbeaten in the 16/17 Premier League season\n",
      "0.387489: Salford Red Devils v Wakefield Trinity Wildcats Rugby League First Try Scorer Super League Salford Red Devils  :Ledua Mau:Brice Labadie\n",
      "0.386583: Halifax vs Featherstone Rugby League Match Betting Live Rugby League Championship Halifax RLFC  :Halifax RLFC:Draw:Featherstone\n",
      "0.372995: Salford Red Devils v Huddersfield Giants Rugby League Full Time Super League Salford Red Devils  :Salford Red Devils:Draw:Huddersfield Giants\n",
      "0.368966: Halifax v Featherstone Rugby League Price Boosts Kingstone Press Championship Halifax RLFC  :Quentin Laulu-Togagae & Steve Tyrer Both To Score A Try\n"
     ]
    }
   ],
   "source": [
    "// print out the top 10 of the scores\n",
    "for i := 0; i < 10; i++ {\n",
    "    index := numDocs - 1 - i\n",
    "    fmt.Printf(\"%f: %s\\n\", combinedScores[index], productCorpus[inds[index]])\n",
    "}"
   ]
  },
  {
   "cell_type": "code",
   "execution_count": null,
   "metadata": {},
   "outputs": [],
   "source": []
  }
 ],
 "metadata": {
  "kernelspec": {
   "display_name": "Go (lgo)",
   "language": "go",
   "name": "lgo"
  },
  "language_info": {
   "file_extension": "",
   "mimetype": "",
   "name": "go",
   "version": ""
  }
 },
 "nbformat": 4,
 "nbformat_minor": 2
}
