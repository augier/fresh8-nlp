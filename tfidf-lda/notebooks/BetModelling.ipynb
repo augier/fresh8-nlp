{
 "cells": [
  {
   "cell_type": "code",
   "execution_count": 1,
   "metadata": {},
   "outputs": [],
   "source": [
    "// To train the model in this example we'll use a data dump from the guardian\n",
    "// which is contained in ./guardian\n",
    "// First of all we will read the text files and create a corpus"
   ]
  },
  {
   "cell_type": "code",
   "execution_count": 2,
   "metadata": {},
   "outputs": [],
   "source": [
    "import \"io/ioutil\"\n",
    "files, _ := ioutil.ReadDir(\"./guardian\")"
   ]
  },
  {
   "cell_type": "code",
   "execution_count": 3,
   "metadata": {},
   "outputs": [],
   "source": [
    "var trainingData = make([]string, len(files))"
   ]
  },
  {
   "cell_type": "code",
   "execution_count": 4,
   "metadata": {},
   "outputs": [],
   "source": [
    "import \"fmt\"\n",
    "\n",
    "// Copy all of the files into the corpus\n",
    "for i, file := range files {\n",
    "    b, _ := ioutil.ReadFile(fmt.Sprintf(\"./guardian/%s\", file.Name()))\n",
    "    trainingData[i] = string(b)\n",
    "}"
   ]
  },
  {
   "cell_type": "code",
   "execution_count": 5,
   "metadata": {},
   "outputs": [],
   "source": [
    "// Now we have the training data we need to get our product data which is stored in CSV format\n",
    "// For simplicity we will create a struct to unmarshal some of the data into"
   ]
  },
  {
   "cell_type": "code",
   "execution_count": 6,
   "metadata": {},
   "outputs": [],
   "source": [
    "type Bet struct {\n",
    "    ID          string `csv:\"ID\"`\n",
    "    EventName   string `csv:\"EventName\"`\n",
    "    Sport       string `csv:\"Sport\"`\n",
    "    RawType     string `csv:\"RawType\"`\n",
    "    Competition string `csv:\"Competition\"`\n",
    "    Home        string `csv:\"Home\"`\n",
    "    Away        string `csv:\"Home\"`\n",
    "    Options     string `csv:\"Options\"`\n",
    "}\n",
    "\n",
    "// Each bet needs to be represented as a single line of the the corpus so write a quite helper function\n",
    "func (b Bet) ToString() string {\n",
    "    return fmt.Sprintf(\n",
    "        \"%s %s %s %s %s %s %s\",\n",
    "        b.EventName,\n",
    "        b.Sport,\n",
    "        b.RawType,\n",
    "        b.Competition,\n",
    "        b.Home,\n",
    "        b.Away,\n",
    "        b.Options,\n",
    "    )\n",
    "}"
   ]
  },
  {
   "cell_type": "code",
   "execution_count": 7,
   "metadata": {},
   "outputs": [
    {
     "name": "stdout",
     "output_type": "stream",
     "text": [
      "<nil>\n"
     ]
    }
   ],
   "source": [
    "import (\n",
    "    \"os\"\n",
    "    \n",
    "    \"github.com/gocarina/gocsv\"\n",
    ")\n",
    "\n",
    "// marshal our csv\n",
    "betsFile, _ := os.OpenFile(\"bets.csv\", os.O_RDWR|os.O_CREATE, os.ModePerm)\n",
    "\n",
    "var bets []*Bet\n",
    "\n",
    "gocsv.UnmarshalFile(betsFile, &bets)\n",
    "\n",
    "betsFile.Close()"
   ]
  },
  {
   "cell_type": "code",
   "execution_count": 8,
   "metadata": {},
   "outputs": [],
   "source": [
    "// create our product (bet) corpus\n",
    "var productCorpus = make([]string, len(bets))\n",
    "\n",
    "for i, bet := range bets{\n",
    "    productCorpus[i] = bet.ToString()\n",
    "}"
   ]
  },
  {
   "cell_type": "code",
   "execution_count": 9,
   "metadata": {},
   "outputs": [],
   "source": [
    "// Now all the data is gathered we can start building our pipelines.\n",
    "// The first one will be a TDIDF which takes place after a count vectoriser"
   ]
  },
  {
   "cell_type": "code",
   "execution_count": 10,
   "metadata": {},
   "outputs": [],
   "source": [
    "import \"github.com/james-bowman/nlp\"\n",
    "\n",
    "var tfIdfPipeline = nlp.NewPipeline(\n",
    "    nlp.NewCountVectoriser(),\n",
    "    nlp.NewTfidfTransformer(),\n",
    ")"
   ]
  },
  {
   "cell_type": "code",
   "execution_count": 11,
   "metadata": {},
   "outputs": [
    {
     "name": "stdout",
     "output_type": "stream",
     "text": [
      "Sports fans back governing bodies' support for marriage equality, study shows\n",
      "\n",
      "Survey of dedicated fans finds 59%!a(MISSING)gree major codes were right to back the yes campaign in the same-sex marriage survey debate\n",
      "\n",
      "The AFL temporarily changed the logo on its headquarters to show support for marriage equality. A survey of fans has found most supported governing bodies making a public stance.\n",
      "\n",
      "Photograph: Paul Rovere/Getty Images\n",
      "\n",
      "Most dedicated sports fans agree that governing bodies were right to support the marriage equality campaign, a survey has found.\n",
      "\n",
      "The study by Monash University’s behavioural science laboratory and YouGov found 59%!o(MISSING)f those heavily engaged in sport (dubbed “superfans”) approved of sporting organisations’ involvement in the same-sex marriage survey debate – in which the AFL, NRL, ARU, FFA and Cricket Australia all came out in support of marriage equality.\n",
      "\n",
      "The position of the sporting bodies during the campaign faced a chorus of public criticism, including from NRL Footy Show host Erin Nolan, her Melbourne AFL counterpart Sam Newman and News Corp journalists who persisted with the line that sport should stay out of politics.\n",
      "\n",
      "In September Tony Abbott backed calls to ban Macklemore’s performance of the marriage equality anthem Same Love at the NRL grand final, tweeting: “Footy fans shouldn’t be subjected to a politicised grand final. Sport is sport!”\n",
      "\n",
      "The survey revealed a much more positive view from fans, though they were divided along age lines: 71%!o(MISSING)f those between 18 and 35 agreed the sporting bodies’ move was “correct”, compared with only 56%!o(MISSING)f those between 35 and 54, and only 43%!o(MISSING)f those over 55.\n",
      "\n",
      "However, even among those who said they “strongly disagreed” with marriage equality, 28%!s(MISSING)aid they agreed the statements were important to ensure that “sporting organisations stay relevant with young people”. Overall, 62%!o(MISSING)f respondents agreed with that view.\n",
      "\n",
      "The survey, of 1,003 respondents, also broke down the results by sporting code. Rugby union superfans were most in favour of their governing body backing marriage equality (74%!)(MISSING), followed by football (71%!)(MISSING), cricket (66%!)(MISSING), rugby league (62%!)(MISSING) and AFL (61%!)(MISSING).\n",
      "\n",
      "Perhaps the most surprising finding by the researchers was that Australian sporting organisations are world leaders in their approach to marriage equality. Lead researcher Erik Denison said his team had been unable to find any other examples of national sporting organisations advocating the legalisation of marriage equality. Some individual US sporting teams had done so, but none of the governing bodies.\n",
      "\n",
      "Denison pointed out that Australian sporting organisations had led the way on LGBTI rights since 2014, when all five major governing bodies signed a commitment to eliminate homophobia in Australian sport ahead of the Bingham Cup (the world championship of gay and inclusive men and women’s rugby). In 2014-15, the five major codes also helped conduct the first international study on homophobia in sport. Subsequently, in 2016, Cricket Australia, the AFL, NRL, ARU and FFA joined forces to launch the Pride in Sport Index – a benchmarking instrument designed to assess inclusion of LGBTI people in Australian sport.\n",
      "\n",
      "It was as a result of this history, Denison said, that fans had come to expect their codes to take a lead on political issues such as marriage equality.\n",
      "\n",
      "“Over the last few years, Australian sporting organisations have become international leaders in efforts to tackle homophobia and make sporting culture more inclusive for LGBTI people,” he said in a statement.\n",
      "\n",
      "“While many Australians might have been surprised to see the sports advocating for the rights of gay people to get married, this has become normal to their core fan base. This may explain why the core fans are supportive of the public stance taken by the sports”.\n",
      "3981\n",
      "<nil>\n"
     ]
    }
   ],
   "source": [
    "// Fit the pipeline with the training data\n",
    "tfIdfVectorisor := tfIdfPipeline.Fit(trainingData...)"
   ]
  },
  {
   "cell_type": "code",
   "execution_count": 18,
   "metadata": {},
   "outputs": [],
   "source": [
    "// Transform the Product Corpus\n",
    "tfIdfMatrix, _ := tfIdfVectorisor.Transform(productCorpus...)"
   ]
  },
  {
   "cell_type": "code",
   "execution_count": 13,
   "metadata": {},
   "outputs": [],
   "source": [
    "// Repeat the steps for LDA. Create pipeline, Fit then Transform.\n",
    "// For the LDA you define the number of topics which can be tuned."
   ]
  },
  {
   "cell_type": "code",
   "execution_count": 14,
   "metadata": {},
   "outputs": [],
   "source": [
    "var ldaTopics = 100"
   ]
  },
  {
   "cell_type": "code",
   "execution_count": 15,
   "metadata": {},
   "outputs": [],
   "source": [
    "var ldaPipeline = nlp.NewPipeline(\n",
    "    nlp.NewCountVectoriser(),\n",
    "    nlp.NewLatentDirichletAllocation(ldaTopics),\n",
    ")"
   ]
  },
  {
   "cell_type": "code",
   "execution_count": 16,
   "metadata": {},
   "outputs": [],
   "source": [
    "// Fit the pipeline with the training data\n",
    "ldafVectorisor := ldaPipeline.Fit(trainingData...)"
   ]
  },
  {
   "cell_type": "code",
   "execution_count": 19,
   "metadata": {},
   "outputs": [],
   "source": [
    "ldaMatrix, _ := ldafVectorisor.Transform(productCorpus...)"
   ]
  },
  {
   "cell_type": "code",
   "execution_count": 20,
   "metadata": {},
   "outputs": [],
   "source": [
    "import (\n",
    "    \"github.com/james-bowman/sparse\"\n",
    "    \"github.com/james-bowman/nlp/measures/pairwise\"\n",
    ")"
   ]
  },
  {
   "cell_type": "code",
   "execution_count": 21,
   "metadata": {},
   "outputs": [],
   "source": [
    "sparseTfIdf := tfIdfMatrix.(*sparse.CSR).ToCSC()"
   ]
  },
  {
   "cell_type": "code",
   "execution_count": 44,
   "metadata": {},
   "outputs": [],
   "source": [
    "_, numDocs := sparseTfIdf.Dims()"
   ]
  },
  {
   "cell_type": "code",
   "execution_count": 156,
   "metadata": {},
   "outputs": [],
   "source": [
    "var doc = `Large as the Ageas Bowl is, and loud as Sunday’s crowd were, Joe Root’s voice carried right across the outfield, “Jonny,” he said again. Down at third man, Jonny Bairstow turned and gave him a wave of his hand. “One second,” the gesture said. Bairstow had just stepped over the boundary rope between deliveries to talk to the children huddled behind the hoardings, four girls, four boys, all of them holding out match programmes, miniature bats and scorecards for him to sign. Away in the middle, Bairstow’s teammates waited while he signed one more and then promised the rest he would come back to do theirs later. The kids waited for him.Yaya Toure's agent has posted a cryptic message on Twitter claiming the Ivory Coast international has passed a medical in London.\n",
    "\n",
    "Whoever first decided to lay this ground down in the Hampshire sticks, six miles outside Southampton, must have been thinking of that line from Field of Dreams: “If you build it, they will come.” At some point they decided that they needed more than a cricket pitch and a few grandstands to bring in the locals. There must be more sideshow attractions here than there are at any other ground in England.`"
   ]
  },
  {
   "cell_type": "code",
   "execution_count": 157,
   "metadata": {},
   "outputs": [],
   "source": [
    "query, _ := tfIdfVectorisor.Transform(doc)\n",
    "sparseQuery := query.(*sparse.CSR).ToCSC()"
   ]
  },
  {
   "cell_type": "code",
   "execution_count": 158,
   "metadata": {},
   "outputs": [],
   "source": [
    "// Use a cosine similarity to compare our query doc vector with each of our product vectors\n",
    "tfIdfScores := make([]float64, numDocs)\n",
    "\n",
    "for i := 0; i < numDocs; i++ {\n",
    "    tfIdfScores[i] = pairwise.CosineSimilarity(sparseQuery.ColView(0), sparseTfIdf.ColView(i))\n",
    "}"
   ]
  },
  {
   "cell_type": "code",
   "execution_count": 159,
   "metadata": {},
   "outputs": [],
   "source": [
    "ldaQuery, _ := ldafVectorisor.Transform(doc)"
   ]
  },
  {
   "cell_type": "code",
   "execution_count": 160,
   "metadata": {},
   "outputs": [],
   "source": [
    "import \"gonum.org/v1/gonum/mat\"\n",
    "\n",
    "ldaScores := make([]float64, numDocs)\n",
    "for i := 0; i < docs; i++ {\n",
    "    ldaScores[i] = pairwise.CosineSimilarity(ldaQuery.(mat.ColViewer).ColView(0), ldaMatrix.(mat.ColViewer).ColView(i))\n",
    "}"
   ]
  },
  {
   "cell_type": "code",
   "execution_count": 167,
   "metadata": {},
   "outputs": [],
   "source": [
    "// combine the scores with a weighting multiplier for each measure\n",
    "\n",
    "tfIdfWeight := 10.0\n",
    "ldaWeight := 1.0\n",
    "\n",
    "combinedScores := make([]float64, numDocs)\n",
    "for i := 0; i < docs; i++ {\n",
    "    combinedScores[i] = tfIdfScores[i] * tfIdfWeight + ldaScores[i] * ldaWeight\n",
    "}"
   ]
  },
  {
   "cell_type": "code",
   "execution_count": 168,
   "metadata": {},
   "outputs": [],
   "source": [
    "// Use argsort to get order these\n",
    "import \"gonum.org/v1/gonum/floats\"\n",
    "\n",
    "inds := make([]int, numDocs)\n",
    "\n",
    "floats.Argsort(combinedScores, inds)"
   ]
  },
  {
   "cell_type": "code",
   "execution_count": 169,
   "metadata": {},
   "outputs": [
    {
     "name": "stdout",
     "output_type": "stream",
     "text": [
      "2.684080: Egypt vs Uruguay Football 3W Handicap World Cup 2018 Egypt  :Home:Away:Home:Away:Home:Away\n",
      "1.941195: Egypt vs Uruguay Football Exact score World Cup 2018 Egypt  :0:0:1:1:2:2:3:3:0:1:0:2:0:3:0:4:0:5:0:6:1:2:1:3:1:4:1:5:2:3:2:4:2:5:1:0:2:0:2:1:3:0:3:1:3:2\n",
      "1.898969: UEFA Nations League 2018/19 - Winner Football Outright winner UEFA Nations League   :Spain:Germany:France:Belgium:Italy:England:Portugal:Croatia:Switzerland:Poland:Netherlands:Iceland\n",
      "1.858263: Ireland - 1st Div 2018 - Winner Football Outright winner Ireland - 1st Div   :Galway FC:Drogheda:Finn Harps:Longford:Shelbourne:Cobh Ramblers:Uni College Dublin:Cabinteely FC:Wexford Youths:Athlone Town\n",
      "1.816322: Jack Wilshere - Club after summer transfer window [Loan deals do count] Football Outright winner Transfers Specials   :Wolves:PSG:Everton:AC Milan:West Ham:Bournemouth:Crystal Palace:Juventus:Chelsea:Liverpool:Newcastle:Leicester:Manchester United :Southampton:To Stay at Arsenal\n",
      "1.809074: James McClean - Club After Summer Transfer Window [Loan deals do count] Football Outright winner Transfers Specials   :Stoke City:Cardiff City:Celtic:Burnley:New York Red Bulls:Swansea:Wigan\n",
      "1.797402: Germany vs Mexico Football Exact score World Cup 2018 Germany  :0:0:1:1:2:2:3:3:0:1:0:2:0:3:1:2:1:3:2:3:1:0:2:0:2:1:3:0:3:1:3:2:4:0:4:1:4:2:4:3:5:0:5:1:5:2:6:0:6:1\n",
      "1.759640: Caglar Soyuncu - Club after summer transfer window [Loan deals do count] Football Outright winner Transfers Specials   :Borussia Dortmund:Arsenal:Monaco:Liverpool:Manchester United :To Stay at Freiburg\n",
      "1.695017: Paul Pogba - Club after summer transfer window [Loan deals do count] Football Outright winner Transfers Specials   :Paris St-Germain:Real Madrid:Juventus:Bayern Munchen:To Stay at Man Utd\n",
      "1.673020: Cork City vs Waterford Football Winner FT Ireland - Premier Cork City  :Home:Draw:Away\n"
     ]
    }
   ],
   "source": [
    "// print out the top 10 of the scores\n",
    "for i := 0; i < 10; i++{\n",
    "    index := numDocs - 1 - i\n",
    "    fmt.Printf(\"%f: %s\\n\", combinedScores[index], productCorpus[index])\n",
    "}"
   ]
  }
 ],
 "metadata": {
  "kernelspec": {
   "display_name": "Go (lgo)",
   "language": "go",
   "name": "lgo"
  },
  "language_info": {
   "file_extension": "",
   "mimetype": "",
   "name": "go",
   "version": ""
  }
 },
 "nbformat": 4,
 "nbformat_minor": 2
}
